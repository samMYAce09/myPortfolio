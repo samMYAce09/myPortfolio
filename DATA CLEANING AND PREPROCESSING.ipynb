{
 "cells": [
  {
   "cell_type": "markdown",
   "id": "8fc87871-89b9-4070-a3ec-bcc8be2729e5",
   "metadata": {},
   "source": [
    "TO IDENTIFY MISSING VALUE, WE USE THE .ISNULL() TO HELP CHECK FOR THE MISSING DATA"
   ]
  },
  {
   "cell_type": "code",
   "execution_count": 1,
   "id": "7aa4664b-67aa-4b1b-b267-82eaf98a04f4",
   "metadata": {},
   "outputs": [],
   "source": [
    "import numpy as np\n",
    "import pandas as pd"
   ]
  },
  {
   "cell_type": "code",
   "execution_count": 3,
   "id": "553c35a2-65e0-47b2-8a75-447aa8fc139a",
   "metadata": {},
   "outputs": [],
   "source": [
    "data = pd.DataFrame({\n",
    "    'Name': ['Alice', 'Bob', 'Charlie', 'David', 'Eve'],\n",
    "    'Age': [24, np.nan, 35, 45, np.nan],\n",
    "    'Salary': [50000, 54000, np.nan, 61000, 66000]\n",
    "})"
   ]
  },
  {
   "cell_type": "code",
   "execution_count": 5,
   "id": "1e967e71-74e8-43a4-8949-2035f40597fb",
   "metadata": {},
   "outputs": [
    {
     "name": "stdout",
     "output_type": "stream",
     "text": [
      "      Name   Age   Salary\n",
      "0    Alice  24.0  50000.0\n",
      "1      Bob   NaN  54000.0\n",
      "2  Charlie  35.0      NaN\n",
      "3    David  45.0  61000.0\n",
      "4      Eve   NaN  66000.0\n"
     ]
    }
   ],
   "source": [
    "print(data)"
   ]
  },
  {
   "cell_type": "code",
   "execution_count": 11,
   "id": "35f925ca-b449-43b6-a8c3-e8285ddc49f8",
   "metadata": {},
   "outputs": [
    {
     "name": "stdout",
     "output_type": "stream",
     "text": [
      "Name      0\n",
      "Age       2\n",
      "Salary    1\n",
      "dtype: int64\n"
     ]
    }
   ],
   "source": [
    "data1 = data.isnull().sum()\n",
    "print(data1)"
   ]
  },
  {
   "cell_type": "code",
   "execution_count": 13,
   "id": "67cf504b-07b0-4769-9432-bc37d0ff5d56",
   "metadata": {},
   "outputs": [],
   "source": [
    "#dropping missing value"
   ]
  },
  {
   "cell_type": "code",
   "execution_count": 23,
   "id": "9b3e55c7-e653-49c2-8958-4bd9b70cb655",
   "metadata": {},
   "outputs": [
    {
     "name": "stdout",
     "output_type": "stream",
     "text": [
      "    Name   Age   Salary\n",
      "0  Alice  24.0  50000.0\n",
      "3  David  45.0  61000.0\n"
     ]
    }
   ],
   "source": [
    "datadrop = data.dropna()\n",
    "print(datadrop)"
   ]
  },
  {
   "cell_type": "code",
   "execution_count": 27,
   "id": "467e983f-3edc-4cce-9e07-984891b49a50",
   "metadata": {},
   "outputs": [
    {
     "name": "stdout",
     "output_type": "stream",
     "text": [
      "      Name\n",
      "0    Alice\n",
      "1      Bob\n",
      "2  Charlie\n",
      "3    David\n",
      "4      Eve\n"
     ]
    }
   ],
   "source": [
    "datadropcolumn = data.dropna(axis=1)\n",
    "print(datadropcolumn)"
   ]
  },
  {
   "cell_type": "code",
   "execution_count": 29,
   "id": "c1b944ce-b05b-4b8b-b381-a82e16e4f0e7",
   "metadata": {},
   "outputs": [
    {
     "name": "stdout",
     "output_type": "stream",
     "text": [
      "      Name   Age   Salary\n",
      "0    Alice  24.0  50000.0\n",
      "1      Bob   0.0  54000.0\n",
      "2  Charlie  35.0      0.0\n",
      "3    David  45.0  61000.0\n",
      "4      Eve   0.0  66000.0\n"
     ]
    }
   ],
   "source": [
    "datafillzero = data.fillna(0)\n",
    "print(datafillzero)"
   ]
  },
  {
   "cell_type": "code",
   "execution_count": null,
   "id": "ed9e3488-a20d-4833-a299-edee0d775692",
   "metadata": {},
   "outputs": [],
   "source": []
  }
 ],
 "metadata": {
  "kernelspec": {
   "display_name": "Python 3 (ipykernel)",
   "language": "python",
   "name": "python3"
  },
  "language_info": {
   "codemirror_mode": {
    "name": "ipython",
    "version": 3
   },
   "file_extension": ".py",
   "mimetype": "text/x-python",
   "name": "python",
   "nbconvert_exporter": "python",
   "pygments_lexer": "ipython3",
   "version": "3.12.4"
  }
 },
 "nbformat": 4,
 "nbformat_minor": 5
}
